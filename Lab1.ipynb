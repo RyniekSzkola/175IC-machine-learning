{
  "nbformat": 4,
  "nbformat_minor": 0,
  "metadata": {
    "colab": {
      "name": "Lab1.ipynb",
      "provenance": [],
      "authorship_tag": "ABX9TyMCWQc8oooszHAQCjQ4HUqb",
      "include_colab_link": true
    },
    "kernelspec": {
      "name": "python3",
      "display_name": "Python 3"
    }
  },
  "cells": [
    {
      "cell_type": "markdown",
      "metadata": {
        "id": "view-in-github",
        "colab_type": "text"
      },
      "source": [
        "<a href=\"https://colab.research.google.com/github/RyniekSzkola/175IC-machine-learning/blob/main/Lab1.ipynb\" target=\"_parent\"><img src=\"https://colab.research.google.com/assets/colab-badge.svg\" alt=\"Open In Colab\"/></a>"
      ]
    },
    {
      "cell_type": "code",
      "metadata": {
        "id": "qZwzc0jXaeWQ"
      },
      "source": [
        "data = {\n",
        "    'size' : ['L', 'L', 'M', 'XL', 'M', 'S', 'M', 'XXL', 'XL', 'L', 'M', 'XL', 'S', 'S', 'XL'],\n",
        "    'color' : ['green', 'blue', 'red', 'blue', 'green', 'black', 'white', 'yellow', 'blue', 'black']\n",
        "}"
      ],
      "execution_count": null,
      "outputs": []
    }
  ]
}