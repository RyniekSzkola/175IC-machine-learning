{
  "nbformat": 4,
  "nbformat_minor": 0,
  "metadata": {
    "colab": {
      "name": "Zad_2.ipynb",
      "provenance": [],
      "collapsed_sections": [],
      "authorship_tag": "ABX9TyMXG+0fxH9ppeBoe10ZKKA0",
      "include_colab_link": true
    },
    "kernelspec": {
      "name": "python3",
      "display_name": "Python 3"
    }
  },
  "cells": [
    {
      "cell_type": "markdown",
      "metadata": {
        "id": "view-in-github",
        "colab_type": "text"
      },
      "source": [
        "<a href=\"https://colab.research.google.com/github/RyniekSzkola/175IC-machine-learning/blob/main/Zad_2.ipynb\" target=\"_parent\"><img src=\"https://colab.research.google.com/assets/colab-badge.svg\" alt=\"Open In Colab\"/></a>"
      ]
    },
    {
      "cell_type": "code",
      "metadata": {
        "id": "ysRKKOmIivq3",
        "outputId": "5c5304b8-6b64-45e7-9122-51dd2c195e11",
        "colab": {
          "base_uri": "https://localhost:8080/"
        }
      },
      "source": [
        "import pandas as pd\n",
        "import numpy as np\n",
        "from sklearn import preprocessing\n",
        "from sklearn.model_selection import train_test_split\n",
        "\n",
        "data = {\n",
        "    'size' : [np.nan, 'L', np.nan, 'XL', 'M', 'S', 'M', 'XXL', 'XL', 'L', 'M', 'M', 'S', np.nan, 'XL'],\n",
        "    'color' : ['green', 'blue', np.nan, 'blue', 'green', 'black', 'white', 'yellow', 'blue', np.nan, 'green', 'blue', 'white', 'black', np.nan],\n",
        "    'gender' : [np.nan, np.nan, 'male', 'female', 'male', np.nan, 'male', 'female', 'male', 'female', 'male', 'female', 'male', 'female', 'male'],\n",
        "    'price' : [149.0, np.nan, 110.0, 121.0, 130.0, 74.0, np.nan, np.nan, 190.0, 230.0, 88.0, 114.0, 131.0, 165.0, 191.0],\n",
        "    'weight' : [np.nan, 520, np.nan, 520, 370, 266, 410, 420, 440, 610, 330, 250, 300, np.nan, np.nan],\n",
        "    'bought': ['no', 'yes', 'no', np.nan, 'no', 'yes', 'no', 'yes', 'no', 'yes', 'no', 'yes', 'no', 'yes', 'no']\n",
        "}\n",
        "\n",
        "df_raw = pd.DataFrame(data=data)\n",
        "df = df_raw.copy()\n",
        "\n",
        "#Zad 1 - pominięcie danych które mają 3 bądź więcej wartości pustych\n",
        "df.dropna(thresh=len(df.keys())-2, inplace=True)\n",
        "print(df)\n",
        "\n",
        "#Zad 2 - Wypełnij puste miejsca w kolumnie price wartością średnią\n",
        "df['price'].fillna(df['price'].mean(), inplace=True)\n",
        "\n",
        "#Zad 3 - Wypełnij puste miejsca w kolumnie weight wartością interpolacji\n",
        "df['weight'].fillna(df['weight'].interpolate(), inplace=True)\n",
        "\n",
        "#Zad 4 - Wypełnij puste miejsca w kolumnie size, color i gender wartościami stałymi\n",
        "df['size'].fillna('unisex', inplace=True)\n",
        "df['color'].fillna('black', inplace=True)\n",
        "df['gender'].fillna('male', inplace=True)\n",
        "print(df)\n",
        "\n",
        "#Zad 5 - Dodaj do słownika kolumne cost jako reprezentującą cenę jako jedna z trzech klas\n",
        "df['cost'] = pd.cut(df['price'], bins = 3, labels=('cheap', 'normal_price', 'expensive'))\n",
        "\n",
        "#Zad 6 - Dostosuj dane do modelu by przedstawiały wartość binarną\n",
        "df['bought'] = df['bought'].map(dict(yes='1', no='0'))\n",
        "print(df)\n",
        "\n",
        "#Zad 7 - Podziel słownik na dane wejściowe i wartość wyjściową, a następnie na zbiór uczący i testujący\n",
        "data = df[['size', 'color', 'gender', 'cost']]\n",
        "target = df['bought']\n",
        "x_train, x_test, y_train, y_test = train_test_split(data, target)"
      ],
      "execution_count": 11,
      "outputs": [
        {
          "output_type": "stream",
          "text": [
            "   size   color  gender  price  weight bought\n",
            "1     L    blue     NaN    NaN   520.0    yes\n",
            "3    XL    blue  female  121.0   520.0    NaN\n",
            "4     M   green    male  130.0   370.0     no\n",
            "5     S   black     NaN   74.0   266.0    yes\n",
            "6     M   white    male    NaN   410.0     no\n",
            "7   XXL  yellow  female    NaN   420.0    yes\n",
            "8    XL    blue    male  190.0   440.0     no\n",
            "9     L     NaN  female  230.0   610.0    yes\n",
            "10    M   green    male   88.0   330.0     no\n",
            "11    M    blue  female  114.0   250.0    yes\n",
            "12    S   white    male  131.0   300.0     no\n",
            "13  NaN   black  female  165.0     NaN    yes\n",
            "14   XL     NaN    male  191.0     NaN     no\n",
            "      size   color  gender  price  weight bought\n",
            "1        L    blue    male  143.4   520.0    yes\n",
            "3       XL    blue  female  121.0   520.0    NaN\n",
            "4        M   green    male  130.0   370.0     no\n",
            "5        S   black    male   74.0   266.0    yes\n",
            "6        M   white    male  143.4   410.0     no\n",
            "7      XXL  yellow  female  143.4   420.0    yes\n",
            "8       XL    blue    male  190.0   440.0     no\n",
            "9        L   black  female  230.0   610.0    yes\n",
            "10       M   green    male   88.0   330.0     no\n",
            "11       M    blue  female  114.0   250.0    yes\n",
            "12       S   white    male  131.0   300.0     no\n",
            "13  unisex   black  female  165.0   300.0    yes\n",
            "14      XL   black    male  191.0   300.0     no\n",
            "      size   color  gender  price  weight bought          cost\n",
            "1        L    blue    male  143.4   520.0      1  normal_price\n",
            "3       XL    blue  female  121.0   520.0    NaN         cheap\n",
            "4        M   green    male  130.0   370.0      0  normal_price\n",
            "5        S   black    male   74.0   266.0      1         cheap\n",
            "6        M   white    male  143.4   410.0      0  normal_price\n",
            "7      XXL  yellow  female  143.4   420.0      1  normal_price\n",
            "8       XL    blue    male  190.0   440.0      0     expensive\n",
            "9        L   black  female  230.0   610.0      1     expensive\n",
            "10       M   green    male   88.0   330.0      0         cheap\n",
            "11       M    blue  female  114.0   250.0      1         cheap\n",
            "12       S   white    male  131.0   300.0      0  normal_price\n",
            "13  unisex   black  female  165.0   300.0      1  normal_price\n",
            "14      XL   black    male  191.0   300.0      0     expensive\n"
          ],
          "name": "stdout"
        }
      ]
    }
  ]
}